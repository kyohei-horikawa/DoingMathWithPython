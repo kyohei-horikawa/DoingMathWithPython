{
 "cells": [
  {
   "cell_type": "markdown",
   "id": "f3a35b0d",
   "metadata": {},
   "source": [
    "# 6.1.1"
   ]
  },
  {
   "cell_type": "code",
   "execution_count": 6,
   "id": "d0382513",
   "metadata": {},
   "outputs": [],
   "source": [
    "import numpy as np\n",
    "import matplotlib.pyplot as plt\n",
    "%matplotlib inline"
   ]
  },
  {
   "cell_type": "code",
   "execution_count": 12,
   "id": "3d3c4f77",
   "metadata": {},
   "outputs": [],
   "source": [
    "np.random.seed(seed=0)\n",
    "X_min=0\n",
    "X_max=2.5\n",
    "X_n=30\n",
    "X_col=['cornflowerblue','gray']\n",
    "X=np.zeros(X_n)\n",
    "T=np.zeros(X_n,dtype=np.uint8)\n",
    "Dist_s=[0.4,0.8]\n",
    "Dist_w=[0.8,1.6]\n",
    "Pi=0.5\n",
    "\n",
    "for n in range(X_n):\n",
    "    wk=np.random.rand()\n",
    "    T[n]=0*(wk<Pi)+1*(wk>=Pi)\n",
    "    X[n]=np.random.rand()*Dist_w[T[n]]+Dist_s[T[n]]"
   ]
  },
  {
   "cell_type": "code",
   "execution_count": 13,
   "id": "d420cd1d",
   "metadata": {},
   "outputs": [
    {
     "name": "stdout",
     "output_type": "stream",
     "text": [
      "X=[1.94 1.67 0.92 1.11 1.41 1.65 2.28 0.47 1.07 2.19 2.08 1.02 0.91 1.16\n",
      " 1.46 1.02 0.85 0.89 1.79 1.89 0.75 0.9  1.87 0.5  0.69 1.5  0.96 0.53\n",
      " 1.21 0.6 ]\n"
     ]
    }
   ],
   "source": [
    "print('X='+str(np.round(X,2)))"
   ]
  },
  {
   "cell_type": "code",
   "execution_count": 14,
   "id": "11594e2a",
   "metadata": {},
   "outputs": [
    {
     "data": {
      "text/plain": [
       "array([1.94430299, 1.67181309, 0.91671529, 1.1134184 , 1.41350643,\n",
       "       1.64623187, 2.28095462, 0.46970344, 1.06609588, 2.19201944,\n",
       "       2.0786537 , 1.02442334, 0.91193682, 1.15573513, 1.4634591 ,\n",
       "       1.01938695, 0.85474716, 0.8941084 , 1.78709439, 1.89091248,\n",
       "       0.74962556, 0.89636075, 1.87302059, 0.50314104, 0.69096862,\n",
       "       1.50176242, 0.9632717 , 0.52904761, 1.20526656, 0.59554047])"
      ]
     },
     "execution_count": 14,
     "metadata": {},
     "output_type": "execute_result"
    }
   ],
   "source": [
    "X"
   ]
  },
  {
   "cell_type": "code",
   "execution_count": null,
   "id": "f872c01b",
   "metadata": {},
   "outputs": [],
   "source": []
  }
 ],
 "metadata": {
  "kernelspec": {
   "display_name": "Python 3 (ipykernel)",
   "language": "python",
   "name": "python3"
  },
  "language_info": {
   "codemirror_mode": {
    "name": "ipython",
    "version": 3
   },
   "file_extension": ".py",
   "mimetype": "text/x-python",
   "name": "python",
   "nbconvert_exporter": "python",
   "pygments_lexer": "ipython3",
   "version": "3.9.6"
  }
 },
 "nbformat": 4,
 "nbformat_minor": 5
}
