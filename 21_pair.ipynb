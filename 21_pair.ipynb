{
 "cells": [
  {
   "cell_type": "markdown",
   "metadata": {},
   "source": [
    "<div style=\"text-align: center;\">\n",
    "   <font size=\"5\"> 2021年度　数式処理演習　pair試験問題 </font>\n",
    "</div>\n",
    "   <div style=\"text-align: right;\">\n",
    "   <font size=\"3\"> cc by Shigeto R. Nishitani, 2021/12/2実施 </font>\n",
    "</div>\n",
    "\n",
    "* file: ~/symbolic_math/exams/21_pair_ans.ipynb\n",
    "\n",
    "以下の問題をpythonで解き，LUNAへ提出せよ．LUNAへはipynbとpdf形式の２種類を提出すること．"
   ]
  },
  {
   "cell_type": "markdown",
   "metadata": {},
   "source": [
    "# 1微積分\n",
    "## 1(a) 関数の概形(15点)\n",
    "\n",
    "（テキストp.216の図6.6の確認)\n",
    "\n",
    "直線$y=-2x+4$が, シグモイド関数\n",
    "    \\begin{equation*}\n",
    "      \\sigma(x) = \\frac{1}{1+e^{-x}}\n",
    "    \\end{equation*}\n",
    "を通す($y=\\sigma(-2x+4)$）ことによって0と1の範囲に潰されることを確認せよ．\n",
    "\n",
    "sympyのplotに対してy軸の表示範囲は，オプション\n",
    "``` python\n",
    "ylim=(-1,2)\n",
    "```\n",
    "をつけることで指定できる．"
   ]
  },
  {
   "cell_type": "code",
   "execution_count": 1,
   "metadata": {},
   "outputs": [],
   "source": [
    "from sympy import *\n",
    "init_printing()"
   ]
  },
  {
   "cell_type": "code",
   "execution_count": 3,
   "metadata": {},
   "outputs": [
    {
     "data": {
      "image/png": "[encoded data removed]",
      "text/latex": [
       "$\\displaystyle 4 - 2 x$"
      ],
      "text/plain": [
       "4 - 2⋅x"
      ]
     },
     "execution_count": 3,
     "metadata": {},
     "output_type": "execute_result"
    }
   ],
   "source": [
    "x=symbols('x')\n",
    "y=-2*x+4\n",
    "y"
   ]
  },
  {
   "cell_type": "code",
   "execution_count": 4,
   "metadata": {},
   "outputs": [
    {
     "data": {
      "image/png": "[encoded data removed]",
      "text/latex": [
       "$\\displaystyle \\frac{1}{1 + e^{- x}}$"
      ],
      "text/plain": [
       "   1   \n",
       "───────\n",
       "     -x\n",
       "1 + ℯ  "
      ]
     },
     "execution_count": 4,
     "metadata": {},
     "output_type": "execute_result"
    }
   ],
   "source": [
    "sig=1/(1+E**(-x))\n",
    "sig"
   ]
  },
  {
   "cell_type": "code",
   "execution_count": 5,
   "metadata": {},
   "outputs": [
    {
     "data": {
      "image/png": "[encoded data removed]",
      "text/latex": [
       "$\\displaystyle \\frac{1}{e^{2 x - 4} + 1}$"
      ],
      "text/plain": [
       "     1      \n",
       "────────────\n",
       " 2⋅x - 4    \n",
       "ℯ        + 1"
      ]
     },
     "execution_count": 5,
     "metadata": {},
     "output_type": "execute_result"
    }
   ],
   "source": [
    "sig.subs(x,y)"
   ]
  },
  {
   "cell_type": "code",
   "execution_count": 6,
   "metadata": {},
   "outputs": [
    {
     "data": {
      "image/png": "[encoded data removed]",
      "text/plain": [
       "<Figure size 640x480 with 1 Axes>"
      ]
     },
     "metadata": {},
     "output_type": "display_data"
    },
    {
     "data": {
      "text/plain": [
       "<sympy.plotting.plot.Plot at 0x1050d1520>"
      ]
     },
     "execution_count": 6,
     "metadata": {},
     "output_type": "execute_result"
    }
   ],
   "source": [
    "plot(y,sig.subs(x,y),ylim=(-1,2))"
   ]
  },
  {
   "cell_type": "markdown",
   "metadata": {},
   "source": [
    "## 1(b) シグモイド関数(15点)\n",
    "\n",
    "（テキストp.131の4-118式の確認)\n",
    "\n",
    "シグモイド関数\n",
    "    \\begin{equation*}\n",
    "      \\sigma(x) = \\frac{1}{1+e^{-x}}\n",
    "    \\end{equation*}\n",
    "  の増減，極値，凹凸を調べ，曲線$y=\\sigma(x)$の概形を描け．\n",
    "  シグモイド関数の微分が\n",
    "    \\begin{equation*}\n",
    "      \\sigma(x)(1-\\sigma(x))\n",
    "    \\end{equation*}\n",
    "に一致することを確かめよ．両者を同時にプロットすることでも確かめられる．\n",
    "ただし，曲線は重なるので，どちらかをy軸方向に0.01程度ずらして表示すること．"
   ]
  },
  {
   "cell_type": "code",
   "execution_count": 7,
   "metadata": {},
   "outputs": [],
   "source": [
    "%reset -f\n",
    "from sympy import *\n",
    "init_printing()\n",
    "x=symbols('x')"
   ]
  },
  {
   "cell_type": "code",
   "execution_count": 8,
   "metadata": {},
   "outputs": [
    {
     "data": {
      "image/png": "[encoded data removed]",
      "text/latex": [
       "$\\displaystyle \\frac{e^{- x}}{\\left(1 + e^{- x}\\right)^{2}}$"
      ],
      "text/plain": [
       "    -x    \n",
       "   ℯ      \n",
       "──────────\n",
       "         2\n",
       "⎛     -x⎞ \n",
       "⎝1 + ℯ  ⎠ "
      ]
     },
     "execution_count": 8,
     "metadata": {},
     "output_type": "execute_result"
    }
   ],
   "source": [
    "sig=1/(1+E**(-x))\n",
    "dsig=sig.diff()\n",
    "dsig"
   ]
  },
  {
   "cell_type": "code",
   "execution_count": 11,
   "metadata": {
    "scrolled": true
   },
   "outputs": [
    {
     "data": {
      "image/png": "[encoded data removed]",
      "text/latex": [
       "$\\displaystyle \\left[ \\right]$"
      ],
      "text/plain": [
       "[]"
      ]
     },
     "execution_count": 11,
     "metadata": {},
     "output_type": "execute_result"
    }
   ],
   "source": [
    "solve(dsig,x)"
   ]
  },
  {
   "cell_type": "code",
   "execution_count": 9,
   "metadata": {},
   "outputs": [
    {
     "data": {
      "image/png": "[encoded data removed]",
      "text/latex": [
       "$\\displaystyle - \\frac{e^{- x}}{\\left(1 + e^{- x}\\right)^{2}} + \\frac{2 e^{- 2 x}}{\\left(1 + e^{- x}\\right)^{3}}$"
      ],
      "text/plain": [
       "      -x           -2⋅x  \n",
       "     ℯ          2⋅ℯ      \n",
       "- ────────── + ──────────\n",
       "           2            3\n",
       "  ⎛     -x⎞    ⎛     -x⎞ \n",
       "  ⎝1 + ℯ  ⎠    ⎝1 + ℯ  ⎠ "
      ]
     },
     "execution_count": 9,
     "metadata": {},
     "output_type": "execute_result"
    }
   ],
   "source": [
    "d2sig=dsig.diff()\n",
    "d2sig"
   ]
  },
  {
   "cell_type": "code",
   "execution_count": 18,
   "metadata": {},
   "outputs": [
    {
     "data": {
      "image/png": "[encoded data removed]",
      "text/latex": [
       "$\\displaystyle 0$"
      ],
      "text/plain": [
       "0"
      ]
     },
     "execution_count": 18,
     "metadata": {},
     "output_type": "execute_result"
    }
   ],
   "source": [
    "x0=solve(d2sig,x)[0]\n",
    "x0"
   ]
  },
  {
   "cell_type": "code",
   "execution_count": 20,
   "metadata": {},
   "outputs": [
    {
     "data": {
      "image/png": "[encoded data removed]",
      "text/latex": [
       "$\\displaystyle \\frac{1}{2}$"
      ],
      "text/plain": [
       "1/2"
      ]
     },
     "execution_count": 20,
     "metadata": {},
     "output_type": "execute_result"
    }
   ],
   "source": [
    "sig.subs(x,x0)"
   ]
  },
  {
   "cell_type": "code",
   "execution_count": 13,
   "metadata": {},
   "outputs": [
    {
     "data": {
      "image/png": "[encoded data removed]",
      "text/plain": [
       "<Figure size 640x480 with 1 Axes>"
      ]
     },
     "metadata": {},
     "output_type": "display_data"
    },
    {
     "data": {
      "text/plain": [
       "<sympy.plotting.plot.Plot at 0x10e0deac0>"
      ]
     },
     "execution_count": 13,
     "metadata": {},
     "output_type": "execute_result"
    }
   ],
   "source": [
    "plot(sig)"
   ]
  },
  {
   "cell_type": "code",
   "execution_count": 15,
   "metadata": {},
   "outputs": [
    {
     "data": {
      "image/png": "[encoded data removed]",
      "text/latex": [
       "$\\displaystyle \\frac{1 - \\frac{1}{1 + e^{- x}}}{1 + e^{- x}}$"
      ],
      "text/plain": [
       "       1   \n",
       "1 - ───────\n",
       "         -x\n",
       "    1 + ℯ  \n",
       "───────────\n",
       "       -x  \n",
       "  1 + ℯ    "
      ]
     },
     "execution_count": 15,
     "metadata": {},
     "output_type": "execute_result"
    }
   ],
   "source": [
    "sig*(1-sig)"
   ]
  },
  {
   "cell_type": "code",
   "execution_count": 17,
   "metadata": {},
   "outputs": [
    {
     "data": {
      "image/png": "[encoded data removed]",
      "text/plain": [
       "<Figure size 640x480 with 1 Axes>"
      ]
     },
     "metadata": {},
     "output_type": "display_data"
    },
    {
     "data": {
      "text/plain": [
       "<sympy.plotting.plot.Plot at 0x10e336910>"
      ]
     },
     "execution_count": 17,
     "metadata": {},
     "output_type": "execute_result"
    }
   ],
   "source": [
    "plot(dsig,sig*(1-sig)+0.01)"
   ]
  },
  {
   "cell_type": "markdown",
   "metadata": {},
   "source": [
    "# 2 線形代数\n",
    "## 2(a) 転置(15点)\n",
    "\n",
    "(テキストp.115, 4-94式の確認）\n",
    "\n",
    "$$A=\\left(\n",
    "\\begin{array}{@{\\,}ccc@{\\,}}\n",
    "1 & 2 & 3\\\\\n",
    "4 & 5 & 6 \\end{array}\n",
    "\\right)$$\n",
    "$$\n",
    "B = A^{\\rm T}\n",
    "$$\n",
    "に対して，公式\n",
    "$$\n",
    "（AB)^{\\rm T} = B^{\\rm T} A^{\\rm T}\n",
    "$$\n",
    "が成り立つことを確かめよ．"
   ]
  },
  {
   "cell_type": "code",
   "execution_count": 21,
   "metadata": {},
   "outputs": [],
   "source": [
    "%reset -f\n",
    "from sympy import *\n",
    "init_printing()\n",
    "x=symbols('x')"
   ]
  },
  {
   "cell_type": "code",
   "execution_count": 27,
   "metadata": {},
   "outputs": [
    {
     "data": {
      "image/png": "[encoded data removed]",
      "text/latex": [
       "$\\displaystyle \\left[\\begin{matrix}1 & 2 & 3\\\\4 & 5 & 6\\end{matrix}\\right]$"
      ],
      "text/plain": [
       "⎡1  2  3⎤\n",
       "⎢       ⎥\n",
       "⎣4  5  6⎦"
      ]
     },
     "execution_count": 27,
     "metadata": {},
     "output_type": "execute_result"
    }
   ],
   "source": [
    "A=Matrix(([1,2,3],[4,5,6]))\n",
    "A"
   ]
  },
  {
   "cell_type": "code",
   "execution_count": 28,
   "metadata": {},
   "outputs": [
    {
     "data": {
      "image/png": "[encoded data removed]",
      "text/latex": [
       "$\\displaystyle \\left[\\begin{matrix}1 & 4\\\\2 & 5\\\\3 & 6\\end{matrix}\\right]$"
      ],
      "text/plain": [
       "⎡1  4⎤\n",
       "⎢    ⎥\n",
       "⎢2  5⎥\n",
       "⎢    ⎥\n",
       "⎣3  6⎦"
      ]
     },
     "execution_count": 28,
     "metadata": {},
     "output_type": "execute_result"
    }
   ],
   "source": [
    "B=A.transpose()\n",
    "B"
   ]
  },
  {
   "cell_type": "code",
   "execution_count": 31,
   "metadata": {
    "scrolled": true
   },
   "outputs": [
    {
     "data": {
      "image/png": "[encoded data removed]",
      "text/latex": [
       "$\\displaystyle \\left[\\begin{matrix}14 & 32\\\\32 & 77\\end{matrix}\\right]$"
      ],
      "text/plain": [
       "⎡14  32⎤\n",
       "⎢      ⎥\n",
       "⎣32  77⎦"
      ]
     },
     "execution_count": 31,
     "metadata": {},
     "output_type": "execute_result"
    }
   ],
   "source": [
    "(A*B).transpose()"
   ]
  },
  {
   "cell_type": "code",
   "execution_count": 32,
   "metadata": {},
   "outputs": [
    {
     "data": {
      "image/png": "[encoded data removed]",
      "text/latex": [
       "$\\displaystyle \\left[\\begin{matrix}14 & 32\\\\32 & 77\\end{matrix}\\right]$"
      ],
      "text/plain": [
       "⎡14  32⎤\n",
       "⎢      ⎥\n",
       "⎣32  77⎦"
      ]
     },
     "execution_count": 32,
     "metadata": {},
     "output_type": "execute_result"
    }
   ],
   "source": [
    "B.transpose()*B"
   ]
  },
  {
   "cell_type": "markdown",
   "metadata": {},
   "source": [
    "## 2(b) (15点)\n",
    "\n",
    "  次の行列$A$の固有値とそれに対する固有ベクトルを求めよ．\n",
    "  \\begin{equation*}\n",
    "   A =  \\left(\n",
    "    \\begin{matrix}\n",
    "      -2 & -3 & 3\\\\\n",
    "      1 & 2 & -3\\\\\n",
    "      1 & 1 & -2\n",
    "    \\end{matrix}\n",
    "    \\right)\n",
    "  \\end{equation*}\n",
    "  それぞれの固有値（$\\lambda_i$），固有空間($x_i$)に対して，\n",
    "  $$\n",
    "  A x_i = \\lambda_i x_i\n",
    "  $$\n",
    "  が成立することを確かめよ．"
   ]
  },
  {
   "cell_type": "code",
   "execution_count": 33,
   "metadata": {},
   "outputs": [],
   "source": [
    "%reset -f\n",
    "from sympy import *\n",
    "init_printing()\n",
    "x=symbols('x')"
   ]
  },
  {
   "cell_type": "code",
   "execution_count": 35,
   "metadata": {},
   "outputs": [
    {
     "data": {
      "image/png": "[encoded data removed]",
      "text/latex": [
       "$\\displaystyle \\left[\\begin{matrix}-2 & -3 & 3\\\\1 & 2 & -3\\\\1 & 1 & -2\\end{matrix}\\right]$"
      ],
      "text/plain": [
       "⎡-2  -3  3 ⎤\n",
       "⎢          ⎥\n",
       "⎢1   2   -3⎥\n",
       "⎢          ⎥\n",
       "⎣1   1   -2⎦"
      ]
     },
     "execution_count": 35,
     "metadata": {},
     "output_type": "execute_result"
    }
   ],
   "source": [
    "A=Matrix(([-2,-3,3],[1,2,-3],[1,1,-2]))\n",
    "A"
   ]
  },
  {
   "cell_type": "code",
   "execution_count": 40,
   "metadata": {},
   "outputs": [
    {
     "data": {
      "image/png": "[encoded data removed]",
      "text/latex": [
       "$\\displaystyle \\left[ \\left( -2, \\  1, \\  \\left[ \\left[\\begin{matrix}-1\\\\1\\\\1\\end{matrix}\\right]\\right]\\right), \\  \\left( -1, \\  1, \\  \\left[ \\left[\\begin{matrix}0\\\\1\\\\1\\end{matrix}\\right]\\right]\\right), \\  \\left( 1, \\  1, \\  \\left[ \\left[\\begin{matrix}-1\\\\1\\\\0\\end{matrix}\\right]\\right]\\right)\\right]$"
      ],
      "text/plain": [
       "⎡⎛       ⎡⎡-1⎤⎤⎞  ⎛       ⎡⎡0⎤⎤⎞  ⎛      ⎡⎡-1⎤⎤⎞⎤\n",
       "⎢⎜       ⎢⎢  ⎥⎥⎟  ⎜       ⎢⎢ ⎥⎥⎟  ⎜      ⎢⎢  ⎥⎥⎟⎥\n",
       "⎢⎜-2, 1, ⎢⎢1 ⎥⎥⎟, ⎜-1, 1, ⎢⎢1⎥⎥⎟, ⎜1, 1, ⎢⎢1 ⎥⎥⎟⎥\n",
       "⎢⎜       ⎢⎢  ⎥⎥⎟  ⎜       ⎢⎢ ⎥⎥⎟  ⎜      ⎢⎢  ⎥⎥⎟⎥\n",
       "⎣⎝       ⎣⎣1 ⎦⎦⎠  ⎝       ⎣⎣1⎦⎦⎠  ⎝      ⎣⎣0 ⎦⎦⎠⎦"
      ]
     },
     "execution_count": 40,
     "metadata": {},
     "output_type": "execute_result"
    }
   ],
   "source": [
    "A.eigenvects()"
   ]
  },
  {
   "cell_type": "code",
   "execution_count": 53,
   "metadata": {},
   "outputs": [
    {
     "data": {
      "image/png": "[encoded data removed]",
      "text/latex": [
       "$\\displaystyle \\left[\\begin{matrix}2\\\\-2\\\\-2\\end{matrix}\\right]$"
      ],
      "text/plain": [
       "⎡2 ⎤\n",
       "⎢  ⎥\n",
       "⎢-2⎥\n",
       "⎢  ⎥\n",
       "⎣-2⎦"
      ]
     },
     "metadata": {},
     "output_type": "display_data"
    },
    {
     "data": {
      "image/png": "[encoded data removed]",
      "text/latex": [
       "$\\displaystyle \\left[\\begin{matrix}2\\\\-2\\\\-2\\end{matrix}\\right]$"
      ],
      "text/plain": [
       "⎡2 ⎤\n",
       "⎢  ⎥\n",
       "⎢-2⎥\n",
       "⎢  ⎥\n",
       "⎣-2⎦"
      ]
     },
     "metadata": {},
     "output_type": "display_data"
    },
    {
     "data": {
      "image/png": "[encoded data removed]",
      "text/latex": [
       "$\\displaystyle \\left[\\begin{matrix}0\\\\-1\\\\-1\\end{matrix}\\right]$"
      ],
      "text/plain": [
       "⎡0 ⎤\n",
       "⎢  ⎥\n",
       "⎢-1⎥\n",
       "⎢  ⎥\n",
       "⎣-1⎦"
      ]
     },
     "metadata": {},
     "output_type": "display_data"
    },
    {
     "data": {
      "image/png": "[encoded data removed]",
      "text/latex": [
       "$\\displaystyle \\left[\\begin{matrix}0\\\\-1\\\\-1\\end{matrix}\\right]$"
      ],
      "text/plain": [
       "⎡0 ⎤\n",
       "⎢  ⎥\n",
       "⎢-1⎥\n",
       "⎢  ⎥\n",
       "⎣-1⎦"
      ]
     },
     "metadata": {},
     "output_type": "display_data"
    },
    {
     "data": {
      "image/png": "[encoded data removed]",
      "text/latex": [
       "$\\displaystyle \\left[\\begin{matrix}-1\\\\1\\\\0\\end{matrix}\\right]$"
      ],
      "text/plain": [
       "⎡-1⎤\n",
       "⎢  ⎥\n",
       "⎢1 ⎥\n",
       "⎢  ⎥\n",
       "⎣0 ⎦"
      ]
     },
     "metadata": {},
     "output_type": "display_data"
    },
    {
     "data": {
      "image/png": "[encoded data removed]",
      "text/latex": [
       "$\\displaystyle \\left[\\begin{matrix}-1\\\\1\\\\0\\end{matrix}\\right]$"
      ],
      "text/plain": [
       "⎡-1⎤\n",
       "⎢  ⎥\n",
       "⎢1 ⎥\n",
       "⎢  ⎥\n",
       "⎣0 ⎦"
      ]
     },
     "metadata": {},
     "output_type": "display_data"
    }
   ],
   "source": [
    "for eigenvals in A.eigenvects():\n",
    "    eigenval,_,eigenvect=eigenvals\n",
    "    display(A*eigenvect[0])\n",
    "    display(eigenval*eigenvect[0])"
   ]
  },
  {
   "cell_type": "markdown",
   "metadata": {},
   "source": [
    "# 3 センター試験原題(20点)\n",
    "(2019大学入試センター試験　数学II・B 第2問(1),(2))\n",
    "\n",
    "$p, q$ を実数とし，\n",
    "関数$f(x)=x^3 + p x^2 +qx$ は$x=-1$で極値2を取るとする．\n",
    "また，座標平面上の曲線$y=f(x)$を$C$,放物線$y=-kx^2$ を$D$,\n",
    "放物線$D$上の点$(a, -ka^2)$をAとする．\n",
    "ただし，　$k \\gt 0, a\\gt0$である．\n",
    "\n",
    "(1) 関数$f(x)$が$x=-1$で極値をとるので，\n",
    "$f'(-1) = \\fbox{ ア }$である．\n",
    "これと$f(-1)=2$より，　$p=\\fbox{ イ }\\,, q={ \\fbox{ ウエ }}$である．\n",
    "よって$f(x)$は$x= \\fbox{ オ }$で極小値$ \\fbox{ カキ }$をとる．\n"
   ]
  },
  {
   "cell_type": "code",
   "execution_count": 55,
   "metadata": {},
   "outputs": [],
   "source": [
    "%reset -f\n",
    "from sympy import *\n",
    "init_printing()\n",
    "x,p,q=symbols('x p q')"
   ]
  },
  {
   "cell_type": "code",
   "execution_count": 57,
   "metadata": {},
   "outputs": [
    {
     "data": {
      "image/png": "[encoded data removed]",
      "text/latex": [
       "$\\displaystyle p x^{2} + q x + x^{3}$"
      ],
      "text/plain": [
       "   2          3\n",
       "p⋅x  + q⋅x + x "
      ]
     },
     "execution_count": 57,
     "metadata": {},
     "output_type": "execute_result"
    }
   ],
   "source": [
    "f=x**3+p*x**2+q*x\n",
    "f"
   ]
  },
  {
   "cell_type": "code",
   "execution_count": 63,
   "metadata": {},
   "outputs": [
    {
     "data": {
      "image/png": "[encoded data removed]",
      "text/latex": [
       "$\\displaystyle - 2 p + q + 3$"
      ],
      "text/plain": [
       "-2⋅p + q + 3"
      ]
     },
     "execution_count": 63,
     "metadata": {},
     "output_type": "execute_result"
    }
   ],
   "source": [
    "df=f.diff(x)\n",
    "eq1=df.subs(x,-1)\n",
    "eq1"
   ]
  },
  {
   "cell_type": "code",
   "execution_count": 64,
   "metadata": {},
   "outputs": [
    {
     "data": {
      "image/png": "[encoded data removed]",
      "text/latex": [
       "$\\displaystyle p - q - 3$"
      ],
      "text/plain": [
       "p - q - 3"
      ]
     },
     "execution_count": 64,
     "metadata": {},
     "output_type": "execute_result"
    }
   ],
   "source": [
    "eq2=f.subs(x,-1)-2\n",
    "eq2"
   ]
  },
  {
   "cell_type": "code",
   "execution_count": 70,
   "metadata": {},
   "outputs": [
    {
     "data": {
      "image/png": "[encoded data removed]",
      "text/latex": [
       "$\\displaystyle 0$"
      ],
      "text/plain": [
       "0"
      ]
     },
     "execution_count": 70,
     "metadata": {},
     "output_type": "execute_result"
    }
   ],
   "source": [
    "p0=solve(eq1+eq2)[0]\n",
    "p0"
   ]
  },
  {
   "cell_type": "code",
   "execution_count": 74,
   "metadata": {},
   "outputs": [
    {
     "data": {
      "image/png": "[encoded data removed]",
      "text/latex": [
       "$\\displaystyle -3$"
      ],
      "text/plain": [
       "-3"
      ]
     },
     "execution_count": 74,
     "metadata": {},
     "output_type": "execute_result"
    }
   ],
   "source": [
    "q0=solve(eq1.subs(p,p0))[0]\n",
    "q0"
   ]
  },
  {
   "cell_type": "code",
   "execution_count": 77,
   "metadata": {},
   "outputs": [
    {
     "data": {
      "image/png": "[encoded data removed]",
      "text/latex": [
       "$\\displaystyle x^{3} - 3 x$"
      ],
      "text/plain": [
       " 3      \n",
       "x  - 3⋅x"
      ]
     },
     "execution_count": 77,
     "metadata": {},
     "output_type": "execute_result"
    }
   ],
   "source": [
    "f=f.subs({p:p0,q:q0})\n",
    "f"
   ]
  },
  {
   "cell_type": "code",
   "execution_count": 81,
   "metadata": {},
   "outputs": [
    {
     "data": {
      "image/png": "[encoded data removed]",
      "text/latex": [
       "$\\displaystyle -2$"
      ],
      "text/plain": [
       "-2"
      ]
     },
     "execution_count": 81,
     "metadata": {},
     "output_type": "execute_result"
    }
   ],
   "source": [
    "df=f.diff()\n",
    "x0=solve(df)[1]\n",
    "f.subs(x,x0)"
   ]
  },
  {
   "cell_type": "markdown",
   "metadata": {},
   "source": [
    "(2) 点Aにおける放物線$D$の接線を$l$とする．\n",
    "$D$と$l$および$x$軸で囲まれた図形の面積$S$を\n",
    "$a$と$k$を用いて表そう．\n",
    "\n",
    "$l$の方程式は\n",
    "\\begin{equation*}\n",
    "  y = \\fbox{ クケ }\\,kax + \\,ka^{ \\fbox{ コ }}　... (1)\n",
    "\\end{equation*}\n",
    "と表せる．\n",
    "$l$と$x$軸の交点の$x$座標は\n",
    "$\\frac{\\fbox{ サ }}{\\fbox{ シ }}$であり，\n",
    "$D$と$x$軸および\n",
    "直線$x=a$で囲まれた図形の面積は\n",
    "$\\frac{k}{\\fbox{ ス }}a^{\\fbox{ セ }}$である．\n",
    "よって，$S=\\frac{k}{\\fbox{ ソタ }} a^{\\fbox{ セ }}$である．"
   ]
  },
  {
   "cell_type": "code",
   "execution_count": 84,
   "metadata": {},
   "outputs": [],
   "source": [
    "a,k=symbols('a k')\n",
    "y=-k*x**2"
   ]
  },
  {
   "cell_type": "code",
   "execution_count": 88,
   "metadata": {},
   "outputs": [
    {
     "data": {
      "image/png": "[encoded data removed]",
      "text/latex": [
       "$\\displaystyle - 2 a k$"
      ],
      "text/plain": [
       "-2⋅a⋅k"
      ]
     },
     "execution_count": 88,
     "metadata": {},
     "output_type": "execute_result"
    }
   ],
   "source": [
    "dy=y.diff(x)\n",
    "m1=dy.subs(x,a)\n",
    "m1"
   ]
  },
  {
   "cell_type": "code",
   "execution_count": 92,
   "metadata": {},
   "outputs": [
    {
     "data": {
      "image/png": "[encoded data removed]",
      "text/latex": [
       "$\\displaystyle a^{2} k$"
      ],
      "text/plain": [
       " 2  \n",
       "a ⋅k"
      ]
     },
     "execution_count": 92,
     "metadata": {},
     "output_type": "execute_result"
    }
   ],
   "source": [
    "b1=-k*a**2-m1*x.subs(x,a)\n",
    "b1"
   ]
  },
  {
   "cell_type": "code",
   "execution_count": 94,
   "metadata": {},
   "outputs": [
    {
     "data": {
      "image/png": "[encoded data removed]",
      "text/latex": [
       "$\\displaystyle a^{2} k - 2 a k x$"
      ],
      "text/plain": [
       " 2            \n",
       "a ⋅k - 2⋅a⋅k⋅x"
      ]
     },
     "execution_count": 94,
     "metadata": {},
     "output_type": "execute_result"
    }
   ],
   "source": [
    "l=m1*x+b1\n",
    "l"
   ]
  },
  {
   "cell_type": "code",
   "execution_count": 95,
   "metadata": {},
   "outputs": [
    {
     "data": {
      "image/png": "[encoded data removed]",
      "text/latex": [
       "$\\displaystyle \\left[ \\frac{a}{2}\\right]$"
      ],
      "text/plain": [
       "⎡a⎤\n",
       "⎢─⎥\n",
       "⎣2⎦"
      ]
     },
     "execution_count": 95,
     "metadata": {},
     "output_type": "execute_result"
    }
   ],
   "source": [
    "solve(l,x)"
   ]
  },
  {
   "cell_type": "code",
   "execution_count": 100,
   "metadata": {
    "scrolled": true
   },
   "outputs": [
    {
     "data": {
      "image/png": "[encoded data removed]",
      "text/latex": [
       "$\\displaystyle \\frac{a^{3} k}{3}$"
      ],
      "text/plain": [
       " 3  \n",
       "a ⋅k\n",
       "────\n",
       " 3  "
      ]
     },
     "execution_count": 100,
     "metadata": {},
     "output_type": "execute_result"
    }
   ],
   "source": [
    "S0=integrate(-y,(x,0,a))\n",
    "S0"
   ]
  },
  {
   "cell_type": "code",
   "execution_count": 104,
   "metadata": {},
   "outputs": [
    {
     "data": {
      "image/png": "[encoded data removed]",
      "text/latex": [
       "$\\displaystyle \\frac{a^{3} k}{4}$"
      ],
      "text/plain": [
       " 3  \n",
       "a ⋅k\n",
       "────\n",
       " 4  "
      ]
     },
     "execution_count": 104,
     "metadata": {},
     "output_type": "execute_result"
    }
   ],
   "source": [
    "S1=(a-a/2)*k*a**2*(Rational(1,2))\n",
    "S1"
   ]
  },
  {
   "cell_type": "code",
   "execution_count": 105,
   "metadata": {},
   "outputs": [
    {
     "data": {
      "image/png": "[encoded data removed]",
      "text/latex": [
       "$\\displaystyle \\frac{a^{3} k}{12}$"
      ],
      "text/plain": [
       " 3  \n",
       "a ⋅k\n",
       "────\n",
       " 12 "
      ]
     },
     "execution_count": 105,
     "metadata": {},
     "output_type": "execute_result"
    }
   ],
   "source": [
    "S=S0-S1\n",
    "S"
   ]
  },
  {
   "cell_type": "markdown",
   "metadata": {},
   "source": [
    "# 4 数値改変(20点)\n",
    "\n",
    "大問3.において，関数$f(x)$が$x=-0.9$で極値2をとるとして問3(a)を解きなさい．\n",
    "  問3(b)は変わらないので，解く必要ありません．\n",
    "  極小値は$−3.66567655334305$ぐらいである．\n",
    "  さらに，これらの値を用いて，(x,-2,2)で曲線$C, D$を同時にプロットしなさい．\n"
   ]
  },
  {
   "cell_type": "code",
   "execution_count": 106,
   "metadata": {},
   "outputs": [],
   "source": [
    "%reset -f\n",
    "from sympy import *\n",
    "init_printing()\n",
    "x,p,q=symbols('x p q')"
   ]
  },
  {
   "cell_type": "code",
   "execution_count": 107,
   "metadata": {},
   "outputs": [
    {
     "data": {
      "image/png": "[encoded data removed]",
      "text/latex": [
       "$\\displaystyle p x^{2} + q x + x^{3}$"
      ],
      "text/plain": [
       "   2          3\n",
       "p⋅x  + q⋅x + x "
      ]
     },
     "execution_count": 107,
     "metadata": {},
     "output_type": "execute_result"
    }
   ],
   "source": [
    "f=x**3+p*x**2+q*x\n",
    "f"
   ]
  },
  {
   "cell_type": "code",
   "execution_count": 108,
   "metadata": {},
   "outputs": [
    {
     "data": {
      "image/png": "[encoded data removed]",
      "text/latex": [
       "$\\displaystyle - 1.8 p + q + 2.43$"
      ],
      "text/plain": [
       "-1.8⋅p + q + 2.43"
      ]
     },
     "execution_count": 108,
     "metadata": {},
     "output_type": "execute_result"
    }
   ],
   "source": [
    "df=f.diff(x)\n",
    "eq1=df.subs(x,-0.9)\n",
    "eq1"
   ]
  },
  {
   "cell_type": "code",
   "execution_count": 109,
   "metadata": {},
   "outputs": [
    {
     "data": {
      "image/png": "[encoded data removed]",
      "text/latex": [
       "$\\displaystyle 0.81 p - 0.9 q - 2.729$"
      ],
      "text/plain": [
       "0.81⋅p - 0.9⋅q - 2.729"
      ]
     },
     "execution_count": 109,
     "metadata": {},
     "output_type": "execute_result"
    }
   ],
   "source": [
    "eq2=f.subs(x,-0.9)-2\n",
    "eq2"
   ]
  },
  {
   "cell_type": "code",
   "execution_count": 115,
   "metadata": {},
   "outputs": [
    {
     "data": {
      "image/png": "[encoded data removed]",
      "text/latex": [
       "$\\displaystyle 0.101010101010101 q - 0.302020202020202$"
      ],
      "text/plain": [
       "0.101010101010101⋅q - 0.302020202020202"
      ]
     },
     "execution_count": 115,
     "metadata": {},
     "output_type": "execute_result"
    }
   ],
   "source": [
    "p0=solve(eq1+eq2)[0][p]\n",
    "p0"
   ]
  },
  {
   "cell_type": "code",
   "execution_count": 116,
   "metadata": {},
   "outputs": [
    {
     "data": {
      "image/png": "[encoded data removed]",
      "text/latex": [
       "$\\displaystyle -3.63444444444444$"
      ],
      "text/plain": [
       "-3.63444444444444"
      ]
     },
     "execution_count": 116,
     "metadata": {},
     "output_type": "execute_result"
    }
   ],
   "source": [
    "q0=solve(eq1.subs(p,p0))[0]\n",
    "q0"
   ]
  },
  {
   "cell_type": "code",
   "execution_count": 117,
   "metadata": {},
   "outputs": [
    {
     "data": {
      "image/png": "[encoded data removed]",
      "text/latex": [
       "$\\displaystyle x^{3} - 0.669135802469135 x^{2} - 3.63444444444444 x$"
      ],
      "text/plain": [
       " 3                      2                     \n",
       "x  - 0.669135802469135⋅x  - 3.63444444444444⋅x"
      ]
     },
     "execution_count": 117,
     "metadata": {},
     "output_type": "execute_result"
    }
   ],
   "source": [
    "f=f.subs({p:p0,q:q0})\n",
    "f"
   ]
  },
  {
   "cell_type": "code",
   "execution_count": 118,
   "metadata": {},
   "outputs": [
    {
     "data": {
      "image/png": "[encoded data removed]",
      "text/latex": [
       "$\\displaystyle -3.66567655334305$"
      ],
      "text/plain": [
       "-3.66567655334305"
      ]
     },
     "execution_count": 118,
     "metadata": {},
     "output_type": "execute_result"
    }
   ],
   "source": [
    "df=f.diff()\n",
    "x0=solve(df)[1]\n",
    "f.subs(x,x0)"
   ]
  },
  {
   "cell_type": "code",
   "execution_count": null,
   "metadata": {},
   "outputs": [],
   "source": []
  }
 ],
 "metadata": {
  "kernelspec": {
   "display_name": "Python 3 (ipykernel)",
   "language": "python",
   "name": "python3"
  },
  "language_info": {
   "codemirror_mode": {
    "name": "ipython",
    "version": 3
   },
   "file_extension": ".py",
   "mimetype": "text/x-python",
   "name": "python",
   "nbconvert_exporter": "python",
   "pygments_lexer": "ipython3",
   "version": "3.8.13"
  },
  "latex_envs": {
   "LaTeX_envs_menu_present": true,
   "autocomplete": true,
   "bibliofile": "biblio.bib",
   "cite_by": "apalike",
   "current_citInitial": 1,
   "eqLabelWithNumbers": true,
   "eqNumInitial": 1,
   "hotkeys": {
    "equation": "Ctrl-E",
    "itemize": "Ctrl-I"
   },
   "labels_anchors": false,
   "latex_user_defs": false,
   "report_style_numbering": false,
   "user_envs_cfg": false
  },
  "toc": {
   "base_numbering": 1,
   "nav_menu": {
    "height": "12.666666984558105px",
    "width": "252.6666717529297px"
   },
   "number_sections": true,
   "sideBar": true,
   "skip_h1_title": false,
   "title_cell": "Table of Contents",
   "title_sidebar": "Contents",
   "toc_cell": true,
   "toc_position": {
    "height": "538.3287963867188px",
    "left": "0px",
    "right": "1189.3333740234375px",
    "top": "60.801631927490234px",
    "width": "295.28533935546875px"
   },
   "toc_section_display": "block",
   "toc_window_display": true
  }
 },
 "nbformat": 4,
 "nbformat_minor": 2
}
