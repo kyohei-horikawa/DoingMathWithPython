{
 "cells": [
  {
   "cell_type": "code",
   "execution_count": 1,
   "id": "3e7ee329",
   "metadata": {},
   "outputs": [],
   "source": [
    "from sympy import *\n",
    "init_printing()"
   ]
  },
  {
   "cell_type": "code",
   "execution_count": 2,
   "id": "3949946c",
   "metadata": {},
   "outputs": [],
   "source": [
    "x=symbols('x')\n",
    "P=x*(x+3)*(2*x-3)"
   ]
  },
  {
   "cell_type": "code",
   "execution_count": 3,
   "id": "ffe91491",
   "metadata": {},
   "outputs": [
    {
     "data": {
      "image/png": "[encoded data removed]",
      "text/latex": [
       "$\\displaystyle 2 a^{3} + 9 a^{2} + 3 a - 4$"
      ],
      "text/plain": [
       "   3      2          \n",
       "2⋅a  + 9⋅a  + 3⋅a - 4"
      ]
     },
     "execution_count": 3,
     "metadata": {},
     "output_type": "execute_result"
    }
   ],
   "source": [
    "a=symbols('a')\n",
    "eq1=P.subs(x,a+1).expand()\n",
    "eq1"
   ]
  },
  {
   "cell_type": "code",
   "execution_count": 4,
   "id": "9835d010",
   "metadata": {},
   "outputs": [
    {
     "data": {
      "image/png": "[encoded data removed]",
      "text/latex": [
       "$\\displaystyle 2 a^{3} + 3 a^{2} - 9 a$"
      ],
      "text/plain": [
       "   3      2      \n",
       "2⋅a  + 3⋅a  - 9⋅a"
      ]
     },
     "execution_count": 4,
     "metadata": {},
     "output_type": "execute_result"
    }
   ],
   "source": [
    "eq2=P.subs(x,a).expand()\n",
    "eq2"
   ]
  },
  {
   "cell_type": "code",
   "execution_count": 5,
   "id": "fc00370a",
   "metadata": {},
   "outputs": [
    {
     "data": {
      "image/png": "[encoded data removed]",
      "text/latex": [
       "$\\displaystyle 6 a^{2} + 12 a - 4$"
      ],
      "text/plain": [
       "   2           \n",
       "6⋅a  + 12⋅a - 4"
      ]
     },
     "execution_count": 5,
     "metadata": {},
     "output_type": "execute_result"
    }
   ],
   "source": [
    "eq1-eq2"
   ]
  },
  {
   "cell_type": "code",
   "execution_count": 6,
   "id": "837c5773",
   "metadata": {},
   "outputs": [
    {
     "data": {
      "image/png": "[encoded data removed]",
      "text/latex": [
       "$\\displaystyle \\left[ -1 + \\frac{\\sqrt{15}}{3}, \\  - \\frac{\\sqrt{15}}{3} - 1\\right]$"
      ],
      "text/plain": [
       "⎡     √15    √15    ⎤\n",
       "⎢-1 + ───, - ─── - 1⎥\n",
       "⎣      3      3     ⎦"
      ]
     },
     "execution_count": 6,
     "metadata": {},
     "output_type": "execute_result"
    }
   ],
   "source": [
    "solve(eq1-eq2,a)"
   ]
  },
  {
   "cell_type": "code",
   "execution_count": 7,
   "id": "d71d96d0",
   "metadata": {},
   "outputs": [],
   "source": [
    "%reset -f\n",
    "from sympy import *\n",
    "init_printing()"
   ]
  },
  {
   "cell_type": "code",
   "execution_count": 8,
   "id": "853d7187",
   "metadata": {},
   "outputs": [],
   "source": [
    "x=symbols('x')"
   ]
  },
  {
   "cell_type": "code",
   "execution_count": 9,
   "id": "4201abd2",
   "metadata": {},
   "outputs": [
    {
     "data": {
      "image/png": "[encoded data removed]",
      "text/latex": [
       "$\\displaystyle x^{2} + 3 x - 2$"
      ],
      "text/plain": [
       " 2          \n",
       "x  + 3⋅x - 2"
      ]
     },
     "execution_count": 9,
     "metadata": {},
     "output_type": "execute_result"
    }
   ],
   "source": [
    "c1=x**2+3*x-2\n",
    "c1"
   ]
  },
  {
   "cell_type": "code",
   "execution_count": 10,
   "id": "02c9eecb",
   "metadata": {},
   "outputs": [
    {
     "data": {
      "image/png": "[encoded data removed]",
      "text/latex": [
       "$\\displaystyle 2 x + 3$"
      ],
      "text/plain": [
       "2⋅x + 3"
      ]
     },
     "execution_count": 10,
     "metadata": {},
     "output_type": "execute_result"
    }
   ],
   "source": [
    "dc1=c1.diff()\n",
    "dc1"
   ]
  },
  {
   "cell_type": "code",
   "execution_count": 11,
   "id": "8908ebb7",
   "metadata": {},
   "outputs": [
    {
     "data": {
      "image/png": "[encoded data removed]",
      "text/latex": [
       "$\\displaystyle - \\frac{3}{2}$"
      ],
      "text/plain": [
       "-3/2"
      ]
     },
     "execution_count": 11,
     "metadata": {},
     "output_type": "execute_result"
    }
   ],
   "source": [
    "x0=solve(dc1,x)[0]\n",
    "x0"
   ]
  },
  {
   "cell_type": "code",
   "execution_count": 12,
   "id": "73c25492",
   "metadata": {},
   "outputs": [
    {
     "data": {
      "image/png": "[encoded data removed]",
      "text/latex": [
       "$\\displaystyle - \\frac{17}{4}$"
      ],
      "text/plain": [
       "-17/4"
      ]
     },
     "execution_count": 12,
     "metadata": {},
     "output_type": "execute_result"
    }
   ],
   "source": [
    "y0=c1.subs(x,x0)\n",
    "y0"
   ]
  },
  {
   "cell_type": "code",
   "execution_count": 13,
   "id": "0d4c837b",
   "metadata": {},
   "outputs": [
    {
     "data": {
      "image/png": "[encoded data removed]",
      "text/latex": [
       "$\\displaystyle \\left[ - \\frac{3}{2} + \\frac{\\sqrt{17}}{2}, \\  - \\frac{\\sqrt{17}}{2} - \\frac{3}{2}\\right]$"
      ],
      "text/plain": [
       "⎡  3   √17    √17   3⎤\n",
       "⎢- ─ + ───, - ─── - ─⎥\n",
       "⎣  2    2      2    2⎦"
      ]
     },
     "execution_count": 13,
     "metadata": {},
     "output_type": "execute_result"
    }
   ],
   "source": [
    "solve(c1,x)"
   ]
  },
  {
   "cell_type": "code",
   "execution_count": 14,
   "id": "9f2d0cea",
   "metadata": {},
   "outputs": [],
   "source": [
    "def l_y(f,x1):\n",
    "    m=f.diff()\n",
    "    eq=m.subs(x,x1)*(x-x1)+f.subs(x,x1)\n",
    "    return eq"
   ]
  },
  {
   "cell_type": "code",
   "execution_count": 15,
   "id": "bce15d7a",
   "metadata": {
    "scrolled": true
   },
   "outputs": [
    {
     "data": {
      "image/png": "[encoded data removed]",
      "text/plain": [
       "<Figure size 640x480 with 1 Axes>"
      ]
     },
     "metadata": {},
     "output_type": "display_data"
    },
    {
     "data": {
      "text/plain": [
       "<sympy.plotting.plot.Plot at 0x111217940>"
      ]
     },
     "execution_count": 15,
     "metadata": {},
     "output_type": "execute_result"
    }
   ],
   "source": [
    "plot(c1,l_y(c1,2),(x,-4,4))"
   ]
  },
  {
   "cell_type": "code",
   "execution_count": 16,
   "id": "b12bc97f",
   "metadata": {},
   "outputs": [],
   "source": [
    "%reset -f\n",
    "from sympy import *\n",
    "init_printing()"
   ]
  },
  {
   "cell_type": "code",
   "execution_count": 17,
   "id": "0e6da551",
   "metadata": {},
   "outputs": [],
   "source": [
    "x,a,b=symbols('x a b')\n",
    "c1=4*x**2-8*x+5\n",
    "c2=-2*(x+a)**2+b"
   ]
  },
  {
   "cell_type": "code",
   "execution_count": 18,
   "id": "23e84fd5",
   "metadata": {},
   "outputs": [
    {
     "data": {
      "image/png": "[encoded data removed]",
      "text/latex": [
       "$\\displaystyle \\left( 1, \\  1\\right)$"
      ],
      "text/plain": [
       "(1, 1)"
      ]
     },
     "execution_count": 18,
     "metadata": {},
     "output_type": "execute_result"
    }
   ],
   "source": [
    "dc1=c1.diff()\n",
    "x1=solve(dc1,x)[0]\n",
    "y1=c1.subs(x,x1)\n",
    "(x1,y1)"
   ]
  },
  {
   "cell_type": "code",
   "execution_count": 19,
   "id": "e1245d59",
   "metadata": {},
   "outputs": [
    {
     "data": {
      "image/png": "[encoded data removed]",
      "text/latex": [
       "$\\displaystyle - a$"
      ],
      "text/plain": [
       "-a"
      ]
     },
     "execution_count": 19,
     "metadata": {},
     "output_type": "execute_result"
    }
   ],
   "source": [
    "dc2=c2.diff(x)\n",
    "x2=solve(dc2,x)[0]\n",
    "x2"
   ]
  },
  {
   "cell_type": "code",
   "execution_count": 20,
   "id": "45043a4b",
   "metadata": {},
   "outputs": [
    {
     "data": {
      "image/png": "[encoded data removed]",
      "text/latex": [
       "$\\displaystyle b - 2 \\left(x - 1\\right)^{2} - 1$"
      ],
      "text/plain": [
       "             2    \n",
       "b - 2⋅(x - 1)  - 1"
      ]
     },
     "execution_count": 20,
     "metadata": {},
     "output_type": "execute_result"
    }
   ],
   "source": [
    "eq1=c2.subs(a,-1)\n",
    "eq1-y1"
   ]
  },
  {
   "cell_type": "code",
   "execution_count": 21,
   "id": "a3de8747",
   "metadata": {},
   "outputs": [
    {
     "data": {
      "image/png": "[encoded data removed]",
      "text/latex": [
       "$\\displaystyle 1$"
      ],
      "text/plain": [
       "1"
      ]
     },
     "execution_count": 21,
     "metadata": {},
     "output_type": "execute_result"
    }
   ],
   "source": [
    "solve((eq1-y1).subs(x,x1),b)[0]"
   ]
  },
  {
   "cell_type": "code",
   "execution_count": 22,
   "id": "0f55f9e3",
   "metadata": {},
   "outputs": [],
   "source": [
    "c2=-2*(x+-1)**2+1"
   ]
  },
  {
   "cell_type": "code",
   "execution_count": 23,
   "id": "1a2cddcb",
   "metadata": {},
   "outputs": [
    {
     "data": {
      "image/png": "[encoded data removed]",
      "text/latex": [
       "$\\displaystyle - 2 x^{2} + 4 x - 1$"
      ],
      "text/plain": [
       "     2          \n",
       "- 2⋅x  + 4⋅x - 1"
      ]
     },
     "execution_count": 23,
     "metadata": {},
     "output_type": "execute_result"
    }
   ],
   "source": [
    "c2.expand()"
   ]
  },
  {
   "cell_type": "code",
   "execution_count": 24,
   "id": "ba824279",
   "metadata": {},
   "outputs": [
    {
     "data": {
      "image/png": "[encoded data removed]",
      "text/plain": [
       "<Figure size 640x480 with 1 Axes>"
      ]
     },
     "metadata": {},
     "output_type": "display_data"
    },
    {
     "data": {
      "text/plain": [
       "<sympy.plotting.plot.Plot at 0x120073940>"
      ]
     },
     "execution_count": 24,
     "metadata": {},
     "output_type": "execute_result"
    }
   ],
   "source": [
    "plot(c1,c2,(x,-1,3))"
   ]
  },
  {
   "cell_type": "code",
   "execution_count": 25,
   "id": "4760bb67",
   "metadata": {},
   "outputs": [],
   "source": [
    "%reset -f\n",
    "from sympy import *\n",
    "init_printing()"
   ]
  },
  {
   "cell_type": "code",
   "execution_count": 26,
   "id": "0674430c",
   "metadata": {},
   "outputs": [],
   "source": [
    "x,a,b=symbols('x a b')"
   ]
  },
  {
   "cell_type": "code",
   "execution_count": 27,
   "id": "ca249b1e",
   "metadata": {},
   "outputs": [
    {
     "data": {
      "image/png": "[encoded data removed]",
      "text/latex": [
       "$\\displaystyle a x^{2} - a - b x + b$"
      ],
      "text/plain": [
       "   2              \n",
       "a⋅x  - a - b⋅x + b"
      ]
     },
     "execution_count": 27,
     "metadata": {},
     "output_type": "execute_result"
    }
   ],
   "source": [
    "c=a*x**2-b*x-a+b\n",
    "c"
   ]
  },
  {
   "cell_type": "code",
   "execution_count": 28,
   "id": "52fd1b10",
   "metadata": {},
   "outputs": [
    {
     "data": {
      "image/png": "[encoded data removed]",
      "text/latex": [
       "$\\displaystyle 3 a + 3 b - 6$"
      ],
      "text/plain": [
       "3⋅a + 3⋅b - 6"
      ]
     },
     "execution_count": 28,
     "metadata": {},
     "output_type": "execute_result"
    }
   ],
   "source": [
    "eq1=c.subs(x,-2)-6\n",
    "eq1"
   ]
  },
  {
   "cell_type": "code",
   "execution_count": 29,
   "id": "ead37828",
   "metadata": {},
   "outputs": [],
   "source": [
    "b0=solve(eq1,b)[0]"
   ]
  },
  {
   "cell_type": "code",
   "execution_count": 30,
   "id": "7eb33aa3",
   "metadata": {},
   "outputs": [
    {
     "data": {
      "image/png": "[encoded data removed]",
      "text/latex": [
       "$\\displaystyle \\frac{2 - a}{2 a}$"
      ],
      "text/plain": [
       "2 - a\n",
       "─────\n",
       " 2⋅a "
      ]
     },
     "execution_count": 30,
     "metadata": {},
     "output_type": "execute_result"
    }
   ],
   "source": [
    "dc=c.diff(x)\n",
    "x0=solve(dc,x)[0]\n",
    "x0.subs(b,b0)"
   ]
  },
  {
   "cell_type": "code",
   "execution_count": 31,
   "id": "d428b140",
   "metadata": {},
   "outputs": [
    {
     "data": {
      "image/png": "[encoded data removed]",
      "text/latex": [
       "$\\displaystyle - \\frac{\\left(3 a - 2\\right)^{2}}{4 a}$"
      ],
      "text/plain": [
       "          2 \n",
       "-(3⋅a - 2)  \n",
       "────────────\n",
       "    4⋅a     "
      ]
     },
     "execution_count": 31,
     "metadata": {},
     "output_type": "execute_result"
    }
   ],
   "source": [
    "c.subs(x,x0).subs(b,b0).factor()"
   ]
  },
  {
   "cell_type": "code",
   "execution_count": null,
   "id": "ce56072f",
   "metadata": {},
   "outputs": [],
   "source": []
  }
 ],
 "metadata": {
  "kernelspec": {
   "display_name": "Python 3 (ipykernel)",
   "language": "python",
   "name": "python3"
  },
  "language_info": {
   "codemirror_mode": {
    "name": "ipython",
    "version": 3
   },
   "file_extension": ".py",
   "mimetype": "text/x-python",
   "name": "python",
   "nbconvert_exporter": "python",
   "pygments_lexer": "ipython3",
   "version": "3.8.13"
  }
 },
 "nbformat": 4,
 "nbformat_minor": 5
}
